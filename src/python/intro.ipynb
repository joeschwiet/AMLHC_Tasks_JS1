{
 "cells": [
  {
   "cell_type": "code",
   "execution_count": 4,
   "id": "7b5d6085-c390-417c-8905-f5a5176ff49b",
   "metadata": {},
   "outputs": [],
   "source": [
    "def sayHello(name):\n",
    "    return f\"Hello, {name}\""
   ]
  },
  {
   "cell_type": "code",
   "execution_count": 5,
   "id": "60b68094-a5ef-46d2-9c5b-dfc27280a524",
   "metadata": {},
   "outputs": [
    {
     "data": {
      "text/plain": [
       "'Hello, Johannes'"
      ]
     },
     "execution_count": 5,
     "metadata": {},
     "output_type": "execute_result"
    }
   ],
   "source": [
    "sayHello(\"Johannes\")"
   ]
  },
  {
   "cell_type": "code",
   "execution_count": null,
   "id": "4ed6eda0-f383-4da1-8a42-baa71c151e17",
   "metadata": {},
   "outputs": [],
   "source": []
  }
 ],
 "metadata": {
  "kernelspec": {
   "display_name": "Python 3 (ipykernel)",
   "language": "python",
   "name": "python3"
  },
  "language_info": {
   "codemirror_mode": {
    "name": "ipython",
    "version": 3
   },
   "file_extension": ".py",
   "mimetype": "text/x-python",
   "name": "python",
   "nbconvert_exporter": "python",
   "pygments_lexer": "ipython3",
   "version": "3.11.4"
  }
 },
 "nbformat": 4,
 "nbformat_minor": 5
}
